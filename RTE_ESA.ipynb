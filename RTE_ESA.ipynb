{
  "nbformat": 4,
  "nbformat_minor": 0,
  "metadata": {
    "colab": {
      "name": "RTE-ESA.ipynb",
      "provenance": [],
      "collapsed_sections": []
    },
    "kernelspec": {
      "name": "python3",
      "display_name": "Python 3"
    }
  },
  "cells": [
    {
      "cell_type": "code",
      "metadata": {
        "id": "8EYrSJ7GTcrk",
        "colab": {
          "base_uri": "https://localhost:8080/"
        },
        "outputId": "ecefb8d1-01f5-4cdf-84a9-b5be8d240fb9"
      },
      "source": [
        "!pip3 install pydub\r\n",
        "!pip3 install SpeechRecognition"
      ],
      "execution_count": 1,
      "outputs": [
        {
          "output_type": "stream",
          "text": [
            "Requirement already satisfied: pydub in /usr/local/lib/python3.6/dist-packages (0.24.1)\n",
            "Requirement already satisfied: SpeechRecognition in /usr/local/lib/python3.6/dist-packages (3.8.1)\n"
          ],
          "name": "stdout"
        }
      ]
    },
    {
      "cell_type": "code",
      "metadata": {
        "id": "ilOAL8xfT5p6"
      },
      "source": [
        "# importing libraries \r\n",
        "import speech_recognition as sr \r\n",
        "import os \r\n",
        "from pydub import AudioSegment\r\n",
        "from pydub.silence import split_on_silence\r\n",
        "\r\n",
        "# create a speech recognition object\r\n",
        "r = sr.Recognizer()\r\n",
        "\r\n",
        "# a function that splits the audio file into chunks\r\n",
        "# and applies speech recognition\r\n",
        "def get_large_audio_transcription(path):\r\n",
        "    \"\"\"\r\n",
        "    Splitting the large audio file into chunks\r\n",
        "    and apply speech recognition on each of these chunks\r\n",
        "    \"\"\"\r\n",
        "    # open the audio file using pydub\r\n",
        "    sound = AudioSegment.from_wav(path)  \r\n",
        "    # split audio sound where silence is 700 miliseconds or more and get chunks\r\n",
        "    chunks = split_on_silence(sound,\r\n",
        "        min_silence_len = 500,\r\n",
        "        # adjust this per requirement\r\n",
        "        silence_thresh = sound.dBFS-14,\r\n",
        "        # keep the silence for 1 second, adjustable as well\r\n",
        "        keep_silence=500,\r\n",
        "    )\r\n",
        "    folder_name = \"audio-chunks\"\r\n",
        "    # create a directory to store the audio chunks\r\n",
        "    if not os.path.isdir(folder_name):\r\n",
        "        os.mkdir(folder_name)\r\n",
        "    whole_text = \"\"\r\n",
        "    # process each chunk \r\n",
        "    for i, audio_chunk in enumerate(chunks, start=1):\r\n",
        "        # export audio chunk and save it in\r\n",
        "        # the `folder_name` directory.\r\n",
        "        chunk_filename = os.path.join(folder_name, f\"chunk{i}.wav\")\r\n",
        "        audio_chunk.export(chunk_filename, format=\"wav\")\r\n",
        "        # recognize the chunk\r\n",
        "        with sr.AudioFile(chunk_filename) as source:\r\n",
        "            audio_listened = r.record(source)\r\n",
        "            # try converting it to text\r\n",
        "            try:\r\n",
        "                text = r.recognize_google(audio_listened)\r\n",
        "            except sr.UnknownValueError as e:\r\n",
        "                print(\"Error:\", str(e))\r\n",
        "            else:\r\n",
        "                text = f\"{text.capitalize()}. \"\r\n",
        "                print(chunk_filename, \":\", text)\r\n",
        "                whole_text += text\r\n",
        "    # return the text for all chunks detected\r\n",
        "    return whole_text"
      ],
      "execution_count": 2,
      "outputs": []
    },
    {
      "cell_type": "code",
      "metadata": {
        "id": "iSSZXB7PVj66"
      },
      "source": [
        "# get_large_audio_transcription(\"/content/test1.wav\")"
      ],
      "execution_count": 3,
      "outputs": []
    },
    {
      "cell_type": "code",
      "metadata": {
        "id": "bnPvLj_2Vrh1",
        "colab": {
          "base_uri": "https://localhost:8080/",
          "height": 35
        },
        "outputId": "6227f2ea-8abe-41fd-a7fc-cc8ebe1c06ad"
      },
      "source": [
        "'''\r\n",
        "!sudo apt-get install portaudio19-dev python-all-dev\r\n",
        "!pip3 install pyaudio\r\n",
        "'''"
      ],
      "execution_count": 4,
      "outputs": [
        {
          "output_type": "execute_result",
          "data": {
            "application/vnd.google.colaboratory.intrinsic+json": {
              "type": "string"
            },
            "text/plain": [
              "'\\n!sudo apt-get install portaudio19-dev python-all-dev\\n!pip3 install pyaudio\\n'"
            ]
          },
          "metadata": {
            "tags": []
          },
          "execution_count": 4
        }
      ]
    },
    {
      "cell_type": "code",
      "metadata": {
        "id": "R96hpVy9WLQx",
        "colab": {
          "base_uri": "https://localhost:8080/",
          "height": 52
        },
        "outputId": "450978d7-123c-4a95-b387-ec2655f13abf"
      },
      "source": [
        "'''\r\n",
        "with sr.Microphone() as source:\r\n",
        "    # read the audio data from the default microphone\r\n",
        "    audio_data = r.record(source, duration=5)\r\n",
        "    print(\"Recognizing...\")\r\n",
        "    # convert speech to text\r\n",
        "    text = r.recognize_google(audio_data)\r\n",
        "    print(text)\r\n",
        "'''"
      ],
      "execution_count": 5,
      "outputs": [
        {
          "output_type": "execute_result",
          "data": {
            "application/vnd.google.colaboratory.intrinsic+json": {
              "type": "string"
            },
            "text/plain": [
              "'\\nwith sr.Microphone() as source:\\n    # read the audio data from the default microphone\\n    audio_data = r.record(source, duration=5)\\n    print(\"Recognizing...\")\\n    # convert speech to text\\n    text = r.recognize_google(audio_data)\\n    print(text)\\n'"
            ]
          },
          "metadata": {
            "tags": []
          },
          "execution_count": 5
        }
      ]
    },
    {
      "cell_type": "code",
      "metadata": {
        "id": "a-TCeFtIWy_2",
        "colab": {
          "base_uri": "https://localhost:8080/"
        },
        "outputId": "8bbd6351-1dc8-4f94-fe40-2a78034e0683"
      },
      "source": [
        "x = get_large_audio_transcription(\"/content/test1.wav\")"
      ],
      "execution_count": 6,
      "outputs": [
        {
          "output_type": "stream",
          "text": [
            "audio-chunks/chunk1.wav : Last eve. \n",
            "audio-chunks/chunk2.wav : I paused beside the blacksmith store. \n",
            "audio-chunks/chunk3.wav : And heard the anvil ring the best buy chime. \n",
            "audio-chunks/chunk4.wav : Then. \n",
            "audio-chunks/chunk5.wav : Looking in. \n",
            "audio-chunks/chunk6.wav : Assault upon the floor. \n",
            "audio-chunks/chunk7.wav : Oldham has worn with pitching years of time. \n",
            "audio-chunks/chunk8.wav : How many animals have you had. \n",
            "audio-chunks/chunk9.wav : Said i. \n",
            "audio-chunks/chunk10.wav : To where and paschal all these hammers. \n",
            "audio-chunks/chunk11.wav : Just one. \n",
            "audio-chunks/chunk12.wav : Petit. \n",
            "audio-chunks/chunk13.wav : And then with twinkling eye. \n",
            "audio-chunks/chunk14.wav : The anvil wears the hammers out. \n",
            "audio-chunks/chunk15.wav : You know. \n",
            "audio-chunks/chunk16.wav : And so i thought. \n",
            "audio-chunks/chunk17.wav : The anvil of god's word. \n",
            "audio-chunks/chunk18.wav : For ages skeptic blows have beat upon. \n",
            "audio-chunks/chunk19.wav : Yet. \n",
            "audio-chunks/chunk20.wav : That is the noise of forwarding blows was hud. \n",
            "audio-chunks/chunk21.wav : The anvil. \n",
            "audio-chunks/chunk22.wav : Is unharmed. \n",
            "audio-chunks/chunk23.wav : Bahamas. \n",
            "audio-chunks/chunk24.wav : Gone. \n"
          ],
          "name": "stdout"
        }
      ]
    },
    {
      "cell_type": "code",
      "metadata": {
        "id": "sCW_2_OrZBcn",
        "colab": {
          "base_uri": "https://localhost:8080/"
        },
        "outputId": "68e90b27-b192-48f2-96bf-1164767aff95"
      },
      "source": [
        "#Importing Data Manipulation Library:\r\n",
        "import pandas as pd\r\n",
        "\r\n",
        "#Importing Scientific computing library:\r\n",
        "import numpy as np\r\n",
        "\r\n",
        "#Importing Plotting libraries:\r\n",
        "import matplotlib.pyplot as plt\r\n",
        "import seaborn as sns\r\n",
        "\r\n",
        "#Importing Text Analysis Libraries:\r\n",
        "from textblob import TextBlob\r\n",
        "from nltk.tokenize import sent_tokenize, word_tokenize\r\n",
        "from nltk.stem import PorterStemmer\r\n",
        "!pip install textblob \r\n",
        "from nltk.stem.snowball import SnowballStemmer\r\n",
        "from nltk.sentiment.vader import SentimentIntensityAnalyzer\r\n",
        "import nltk\r\n",
        "nltk.download()\r\n",
        "from nltk.sentiment.vader import SentimentIntensityAnalyzer as vader\r\n",
        "print('Libraries Imported')"
      ],
      "execution_count": 11,
      "outputs": [
        {
          "output_type": "stream",
          "text": [
            "Requirement already satisfied: textblob in /usr/local/lib/python3.6/dist-packages (0.15.3)\n",
            "Requirement already satisfied: nltk>=3.1 in /usr/local/lib/python3.6/dist-packages (from textblob) (3.2.5)\n",
            "Requirement already satisfied: six in /usr/local/lib/python3.6/dist-packages (from nltk>=3.1->textblob) (1.15.0)\n",
            "NLTK Downloader\n",
            "---------------------------------------------------------------------------\n",
            "    d) Download   l) List    u) Update   c) Config   h) Help   q) Quit\n",
            "---------------------------------------------------------------------------\n",
            "Downloader> d\n",
            "\n",
            "Download which package (l=list; x=cancel)?\n",
            "  Identifier> stopwords\n",
            "    Downloading package stopwords to /root/nltk_data...\n",
            "      Package stopwords is already up-to-date!\n",
            "\n",
            "---------------------------------------------------------------------------\n",
            "    d) Download   l) List    u) Update   c) Config   h) Help   q) Quit\n",
            "---------------------------------------------------------------------------\n",
            "Downloader> d\n",
            "\n",
            "Download which package (l=list; x=cancel)?\n",
            "  Identifier> punkt\n",
            "    Downloading package punkt to /root/nltk_data...\n",
            "      Package punkt is already up-to-date!\n",
            "\n",
            "---------------------------------------------------------------------------\n",
            "    d) Download   l) List    u) Update   c) Config   h) Help   q) Quit\n",
            "---------------------------------------------------------------------------\n",
            "Downloader> d\n",
            "\n",
            "Download which package (l=list; x=cancel)?\n",
            "  Identifier> vader_lexicon\n",
            "    Downloading package vader_lexicon to /root/nltk_data...\n",
            "      Package vader_lexicon is already up-to-date!\n",
            "\n",
            "---------------------------------------------------------------------------\n",
            "    d) Download   l) List    u) Update   c) Config   h) Help   q) Quit\n",
            "---------------------------------------------------------------------------\n",
            "Downloader> d\n",
            "\n",
            "Download which package (l=list; x=cancel)?\n",
            "  Identifier> gutenberg\n",
            "    Downloading package gutenberg to /root/nltk_data...\n",
            "      Package gutenberg is already up-to-date!\n",
            "\n",
            "---------------------------------------------------------------------------\n",
            "    d) Download   l) List    u) Update   c) Config   h) Help   q) Quit\n",
            "---------------------------------------------------------------------------\n",
            "Downloader> q\n",
            "Libraries Imported\n"
          ],
          "name": "stdout"
        }
      ]
    },
    {
      "cell_type": "code",
      "metadata": {
        "id": "kjV8rhLDvL_f"
      },
      "source": [
        "from nltk.corpus import stopwords"
      ],
      "execution_count": 15,
      "outputs": []
    },
    {
      "cell_type": "code",
      "metadata": {
        "id": "g7BMJhEy4oDX"
      },
      "source": [
        "#function to remove punctuations\r\n",
        "def remove_punctuation(text):\r\n",
        "    import string\r\n",
        "    translator = str.maketrans('', '', string.punctuation)\r\n",
        "    return text.translate(translator).lower()\r\n",
        "\r\n",
        "#function to remove stopwords\r\n",
        "sw = stopwords.words('english')\r\n",
        "def stopwords(text):\r\n",
        "    text = [word for word in text.split() if word not in sw]\r\n",
        "    return \" \".join(text)\r\n",
        "\r\n",
        "stemmer = SnowballStemmer(\"english\")\r\n",
        "#a function to stem words\r\n",
        "def stemming(text):    \r\n",
        "    text = [stemmer.stem(word) for word in text.split()]\r\n",
        "    return \" \".join(text)"
      ],
      "execution_count": 16,
      "outputs": []
    },
    {
      "cell_type": "code",
      "metadata": {
        "id": "KdZVvYGFi10a"
      },
      "source": [
        "x = remove_punctuation(x) #punctuation removal\r\n",
        "data = stopwords(x) #removing stopwords\r\n",
        "sentiment = SentimentIntensityAnalyzer()\r\n",
        "result = sentiment.polarity_scores(data)\r\n",
        "df = pd.DataFrame(result, index = [1])"
      ],
      "execution_count": 17,
      "outputs": []
    },
    {
      "cell_type": "code",
      "metadata": {
        "id": "irux_-RFi8QG"
      },
      "source": [
        "import warnings\r\n",
        "warnings.simplefilter('ignore')"
      ],
      "execution_count": 18,
      "outputs": []
    },
    {
      "cell_type": "code",
      "metadata": {
        "id": "_LLKCkwAkvE_",
        "colab": {
          "base_uri": "https://localhost:8080/",
          "height": 729
        },
        "outputId": "059a9047-b964-4f0b-8485-b5f65d64f8a6"
      },
      "source": [
        "plt.figure(figsize = (16,10))\r\n",
        "sns.set_theme()\r\n",
        "plt.bar(range(len(result)), list(result.values()), align='center', color = 'blue')\r\n",
        "plt.xticks(range(len(result)), list(result.keys()))"
      ],
      "execution_count": 19,
      "outputs": [
        {
          "output_type": "execute_result",
          "data": {
            "text/plain": [
              "([<matplotlib.axis.XTick at 0x7f61f63c18d0>,\n",
              "  <matplotlib.axis.XTick at 0x7f61f63c1898>,\n",
              "  <matplotlib.axis.XTick at 0x7f61f63c14e0>,\n",
              "  <matplotlib.axis.XTick at 0x7f61f631ad30>],\n",
              " [Text(0, 0, 'neg'),\n",
              "  Text(0, 0, 'neu'),\n",
              "  Text(0, 0, 'pos'),\n",
              "  Text(0, 0, 'compound')])"
            ]
          },
          "metadata": {
            "tags": []
          },
          "execution_count": 19
        },
        {
          "output_type": "display_data",
          "data": {
            "image/png": "[encoded data removed]",
            "text/plain": [
              "<Figure size 1152x720 with 1 Axes>"
            ]
          },
          "metadata": {
            "tags": [],
            "needs_background": "light"
          }
        }
      ]
    }
  ]
}